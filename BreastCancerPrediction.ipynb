{
  "nbformat": 4,
  "nbformat_minor": 0,
  "metadata": {
    "colab": {
      "name": "BreastCancerPrediction.ipynb",
      "provenance": [],
      "collapsed_sections": [],
      "authorship_tag": "ABX9TyNBtHAbRqVqhEL0RHv5a8cO"
    },
    "kernelspec": {
      "name": "python3",
      "display_name": "Python 3"
    }
  },
  "cells": [
    {
      "cell_type": "code",
      "metadata": {
        "colab": {
          "base_uri": "https://localhost:8080/"
        },
        "id": "tWEukbe0xguS",
        "outputId": "c838cf36-36a9-448b-a1eb-ee380732cc0d"
      },
      "source": [
        "from google.colab import drive \n",
        "drive.mount('/content/gdrive/')"
      ],
      "execution_count": null,
      "outputs": [
        {
          "output_type": "stream",
          "name": "stdout",
          "text": [
            "Drive already mounted at /content/gdrive/; to attempt to forcibly remount, call drive.mount(\"/content/gdrive/\", force_remount=True).\n"
          ]
        }
      ]
    },
    {
      "cell_type": "code",
      "metadata": {
        "id": "7WOrRZvZb7uZ"
      },
      "source": [
        "!pip install mpld3"
      ],
      "execution_count": null,
      "outputs": []
    },
    {
      "cell_type": "code",
      "metadata": {
        "id": "9AffNA5gbdid"
      },
      "source": [
        "import numpy as np # linear algebra\n",
        "import pandas as pd # data processing, CSV file I/O (e.g. pd.read_csv)\n",
        "\n",
        "# keeps the plots in one place. calls image as static pngs\n",
        "%matplotlib inline \n",
        "import matplotlib.pyplot as plt # side-stepping mpl backend\n",
        "import matplotlib.gridspec as gridspec # subplots\n",
        "import mpld3 as mpl\n",
        "\n",
        "#Import models from scikit learn module:\n",
        "from sklearn.model_selection import train_test_split\n",
        "from sklearn.model_selection import KFold\n",
        "from sklearn.linear_model import LogisticRegression\n",
        "from sklearn.model_selection import train_test_split #For K-fold cross validation\n",
        "from sklearn.ensemble import RandomForestClassifier\n",
        "from sklearn.tree import DecisionTreeClassifier, export_graphviz\n",
        "from sklearn import metrics"
      ],
      "execution_count": null,
      "outputs": []
    },
    {
      "cell_type": "code",
      "metadata": {
        "id": "_nJCIAaVbxVH"
      },
      "source": [
        "df = pd.read_csv(\"/content/gdrive/My Drive/data.csv\",header = 0)\n",
        "df.head()"
      ],
      "execution_count": null,
      "outputs": []
    },
    {
      "cell_type": "code",
      "metadata": {
        "id": "yryK2X0AciZg"
      },
      "source": [
        "df.drop('id',axis=1,inplace=True)\n",
        "df.drop('Unnamed: 32',axis=1,inplace=True)\n",
        "# size of the dataframe\n",
        "len(df)"
      ],
      "execution_count": null,
      "outputs": []
    },
    {
      "cell_type": "code",
      "metadata": {
        "id": "OBiU-yitdFRr"
      },
      "source": [
        "df.diagnosis.unique()\n",
        "df['diagnosis'] = df['diagnosis'].map({'M':1,'B':0})\n",
        "df.head()"
      ],
      "execution_count": null,
      "outputs": []
    },
    {
      "cell_type": "code",
      "metadata": {
        "id": "1gLLsYlZdIIE"
      },
      "source": [
        "df.describe()"
      ],
      "execution_count": null,
      "outputs": []
    },
    {
      "cell_type": "code",
      "metadata": {
        "id": "F0TcPCzrdPsu"
      },
      "source": [
        "df.describe()\n",
        "plt.hist(df['diagnosis'])\n",
        "plt.title('Diagnosis (M=1 , B=0)')\n",
        "plt.show()"
      ],
      "execution_count": null,
      "outputs": []
    },
    {
      "cell_type": "code",
      "metadata": {
        "id": "6vnm0BEbdTyr"
      },
      "source": [
        "features_mean=list(df.columns[1:11])\n",
        "# split dataframe into two based on diagnosis\n",
        "dfM=df[df['diagnosis'] ==1]\n",
        "dfB=df[df['diagnosis'] ==0]"
      ],
      "execution_count": null,
      "outputs": []
    },
    {
      "cell_type": "code",
      "metadata": {
        "id": "rSS-d64rdXTm"
      },
      "source": [
        "plt.rcParams.update({'font.size': 8})\n",
        "fig, axes = plt.subplots(nrows=5, ncols=2, figsize=(8,10))\n",
        "axes = axes.ravel()\n",
        "for idx,ax in enumerate(axes):\n",
        "    ax.figure\n",
        "    binwidth= (max(df[features_mean[idx]]) - min(df[features_mean[idx]]))/50\n",
        "    ax.hist([dfM[features_mean[idx]],dfB[features_mean[idx]]], bins=np.arange(min(df[features_mean[idx]]), max(df[features_mean[idx]]) + binwidth, binwidth) , alpha=0.5,stacked=True,label=['M','B'],color=['r','g'])\n",
        "    ax.legend(loc='upper right')\n",
        "    ax.set_title(features_mean[idx])\n",
        "plt.tight_layout()\n",
        "plt.show()"
      ],
      "execution_count": null,
      "outputs": []
    },
    {
      "cell_type": "code",
      "metadata": {
        "id": "pYbwRnSudZ3e"
      },
      "source": [
        "#create a test set and training set\n",
        "x_train , x_test , y_train , y_test = train_test_split (x,y,test_size=0.3 , random_state=42)"
      ],
      "execution_count": null,
      "outputs": []
    },
    {
      "cell_type": "code",
      "metadata": {
        "id": "62mreccVfEVW"
      },
      "source": [
        "#classification model and it's evaluattion \n",
        "# From AnalyticsVidhya tutorial\n",
        "def classification_model(model, data, predictors, outcome):\n",
        "  #Fit the model:\n",
        " \n",
        "  model.fit(data[predictors],data[outcome])\n",
        "  \n",
        "  #Make predictions on training set:\n",
        "  predictions = model.predict(data[predictors])\n",
        "  \n",
        "  #Print accuracy\n",
        "  accuracy = metrics.accuracy_score(predictions,data[outcome])\n",
        "  print(\"Accuracy : %s\" % \"{0:.3%}\".format(accuracy))\n",
        "\n",
        "  #Perform k-fold cross-validation with 5 folds\n",
        "  \n",
        "  error = []\n",
        "  kf = KFold(n_splits=5)\n",
        "  for train, test in kf.split(data[predictors]):\n",
        "    # Filter training data\n",
        "    train_predictors = kf.split((data[predictors].iloc[train,:]))\n",
        "    \n",
        "    # The target we're using to train the algorithm.\n",
        "    train_target = kf.split(data[outcome].iloc[train])\n",
        "    \n",
        "    # Training the algorithm using the predictors and target.\n",
        "    model.fit(train_predictors, train_target)\n",
        "    \n",
        "    #Record error from each cross-validation run\n",
        "    error.append(model.score(kf.split(data[predictors].iloc[test,:]), kf.split(data[outcome].iloc[test])))\n",
        "    \n",
        "    print(\"Cross-Validation Score : %s\" % \"{0:.3%}\".format(np.mean(error)))\n",
        "    \n",
        "  #Fit the model again so that it can be refered outside the function:\n",
        "  model.fit(kf.split(data[predictors]),kf.split((data[outcome]))) "
      ],
      "execution_count": null,
      "outputs": []
    },
    {
      "cell_type": "code",
      "metadata": {
        "id": "0uK6TQVLfN07"
      },
      "source": [
        "predictor_var = ['radius_mean','perimeter_mean','area_mean','compactness_mean','concave points_mean']\n",
        "outcome_var='diagnosis'\n",
        "model=LogisticRegression()\n",
        "classification_model(model,traindf,predictor_var,outcome_var)"
      ],
      "execution_count": null,
      "outputs": []
    }
  ]
}
{
  "nbformat": 4,
  "nbformat_minor": 0,
  "metadata": {
    "colab": {
      "name": "BreastCancerPrediction.ipynb",
      "provenance": [],
      "collapsed_sections": []
    },
    "kernelspec": {
      "name": "python3",
      "display_name": "Python 3"
    }
  },
  "cells": [
    {
      "cell_type": "code",
      "metadata": {
        "colab": {
          "base_uri": "https://localhost:8080/"
        },
        "id": "tWEukbe0xguS",
        "outputId": "c838cf36-36a9-448b-a1eb-ee380732cc0d"
      },
      "source": [
        "from google.colab import drive \n",
        "drive.mount('/content/gdrive/')"
      ],
      "execution_count": 3,
      "outputs": [
        {
          "output_type": "stream",
          "name": "stdout",
          "text": [
            "Drive already mounted at /content/gdrive/; to attempt to forcibly remount, call drive.mount(\"/content/gdrive/\", force_remount=True).\n"
          ]
        }
      ]
    },
    {
      "cell_type": "code",
      "metadata": {
        "id": "7WOrRZvZb7uZ",
        "colab": {
          "base_uri": "https://localhost:8080/"
        },
        "outputId": "4549be6d-3a72-41fc-8839-ec01ca28caff"
      },
      "source": [
        "!pip install mpld3"
      ],
      "execution_count": 4,
      "outputs": [
        {
          "output_type": "stream",
          "name": "stdout",
          "text": [
            "Collecting mpld3\n",
            "  Downloading mpld3-0.5.5.tar.gz (1.0 MB)\n",
            "\u001b[?25l\r\u001b[K     |▎                               | 10 kB 27.6 MB/s eta 0:00:01\r\u001b[K     |▋                               | 20 kB 30.7 MB/s eta 0:00:01\r\u001b[K     |█                               | 30 kB 18.6 MB/s eta 0:00:01\r\u001b[K     |█▎                              | 40 kB 16.2 MB/s eta 0:00:01\r\u001b[K     |█▋                              | 51 kB 7.2 MB/s eta 0:00:01\r\u001b[K     |██                              | 61 kB 8.2 MB/s eta 0:00:01\r\u001b[K     |██▎                             | 71 kB 7.9 MB/s eta 0:00:01\r\u001b[K     |██▋                             | 81 kB 8.8 MB/s eta 0:00:01\r\u001b[K     |██▉                             | 92 kB 9.4 MB/s eta 0:00:01\r\u001b[K     |███▏                            | 102 kB 7.1 MB/s eta 0:00:01\r\u001b[K     |███▌                            | 112 kB 7.1 MB/s eta 0:00:01\r\u001b[K     |███▉                            | 122 kB 7.1 MB/s eta 0:00:01\r\u001b[K     |████▏                           | 133 kB 7.1 MB/s eta 0:00:01\r\u001b[K     |████▌                           | 143 kB 7.1 MB/s eta 0:00:01\r\u001b[K     |████▉                           | 153 kB 7.1 MB/s eta 0:00:01\r\u001b[K     |█████▏                          | 163 kB 7.1 MB/s eta 0:00:01\r\u001b[K     |█████▍                          | 174 kB 7.1 MB/s eta 0:00:01\r\u001b[K     |█████▊                          | 184 kB 7.1 MB/s eta 0:00:01\r\u001b[K     |██████                          | 194 kB 7.1 MB/s eta 0:00:01\r\u001b[K     |██████▍                         | 204 kB 7.1 MB/s eta 0:00:01\r\u001b[K     |██████▊                         | 215 kB 7.1 MB/s eta 0:00:01\r\u001b[K     |███████                         | 225 kB 7.1 MB/s eta 0:00:01\r\u001b[K     |███████▍                        | 235 kB 7.1 MB/s eta 0:00:01\r\u001b[K     |███████▊                        | 245 kB 7.1 MB/s eta 0:00:01\r\u001b[K     |████████                        | 256 kB 7.1 MB/s eta 0:00:01\r\u001b[K     |████████▎                       | 266 kB 7.1 MB/s eta 0:00:01\r\u001b[K     |████████▋                       | 276 kB 7.1 MB/s eta 0:00:01\r\u001b[K     |█████████                       | 286 kB 7.1 MB/s eta 0:00:01\r\u001b[K     |█████████▎                      | 296 kB 7.1 MB/s eta 0:00:01\r\u001b[K     |█████████▋                      | 307 kB 7.1 MB/s eta 0:00:01\r\u001b[K     |██████████                      | 317 kB 7.1 MB/s eta 0:00:01\r\u001b[K     |██████████▎                     | 327 kB 7.1 MB/s eta 0:00:01\r\u001b[K     |██████████▌                     | 337 kB 7.1 MB/s eta 0:00:01\r\u001b[K     |██████████▉                     | 348 kB 7.1 MB/s eta 0:00:01\r\u001b[K     |███████████▏                    | 358 kB 7.1 MB/s eta 0:00:01\r\u001b[K     |███████████▌                    | 368 kB 7.1 MB/s eta 0:00:01\r\u001b[K     |███████████▉                    | 378 kB 7.1 MB/s eta 0:00:01\r\u001b[K     |████████████▏                   | 389 kB 7.1 MB/s eta 0:00:01\r\u001b[K     |████████████▌                   | 399 kB 7.1 MB/s eta 0:00:01\r\u001b[K     |████████████▉                   | 409 kB 7.1 MB/s eta 0:00:01\r\u001b[K     |█████████████                   | 419 kB 7.1 MB/s eta 0:00:01\r\u001b[K     |█████████████▍                  | 430 kB 7.1 MB/s eta 0:00:01\r\u001b[K     |█████████████▊                  | 440 kB 7.1 MB/s eta 0:00:01\r\u001b[K     |██████████████                  | 450 kB 7.1 MB/s eta 0:00:01\r\u001b[K     |██████████████▍                 | 460 kB 7.1 MB/s eta 0:00:01\r\u001b[K     |██████████████▊                 | 471 kB 7.1 MB/s eta 0:00:01\r\u001b[K     |███████████████                 | 481 kB 7.1 MB/s eta 0:00:01\r\u001b[K     |███████████████▍                | 491 kB 7.1 MB/s eta 0:00:01\r\u001b[K     |███████████████▋                | 501 kB 7.1 MB/s eta 0:00:01\r\u001b[K     |████████████████                | 512 kB 7.1 MB/s eta 0:00:01\r\u001b[K     |████████████████▎               | 522 kB 7.1 MB/s eta 0:00:01\r\u001b[K     |████████████████▋               | 532 kB 7.1 MB/s eta 0:00:01\r\u001b[K     |█████████████████               | 542 kB 7.1 MB/s eta 0:00:01\r\u001b[K     |█████████████████▎              | 552 kB 7.1 MB/s eta 0:00:01\r\u001b[K     |█████████████████▋              | 563 kB 7.1 MB/s eta 0:00:01\r\u001b[K     |██████████████████              | 573 kB 7.1 MB/s eta 0:00:01\r\u001b[K     |██████████████████▏             | 583 kB 7.1 MB/s eta 0:00:01\r\u001b[K     |██████████████████▌             | 593 kB 7.1 MB/s eta 0:00:01\r\u001b[K     |██████████████████▉             | 604 kB 7.1 MB/s eta 0:00:01\r\u001b[K     |███████████████████▏            | 614 kB 7.1 MB/s eta 0:00:01\r\u001b[K     |███████████████████▌            | 624 kB 7.1 MB/s eta 0:00:01\r\u001b[K     |███████████████████▉            | 634 kB 7.1 MB/s eta 0:00:01\r\u001b[K     |████████████████████▏           | 645 kB 7.1 MB/s eta 0:00:01\r\u001b[K     |████████████████████▌           | 655 kB 7.1 MB/s eta 0:00:01\r\u001b[K     |████████████████████▊           | 665 kB 7.1 MB/s eta 0:00:01\r\u001b[K     |█████████████████████           | 675 kB 7.1 MB/s eta 0:00:01\r\u001b[K     |█████████████████████▍          | 686 kB 7.1 MB/s eta 0:00:01\r\u001b[K     |█████████████████████▊          | 696 kB 7.1 MB/s eta 0:00:01\r\u001b[K     |██████████████████████          | 706 kB 7.1 MB/s eta 0:00:01\r\u001b[K     |██████████████████████▍         | 716 kB 7.1 MB/s eta 0:00:01\r\u001b[K     |██████████████████████▊         | 727 kB 7.1 MB/s eta 0:00:01\r\u001b[K     |███████████████████████         | 737 kB 7.1 MB/s eta 0:00:01\r\u001b[K     |███████████████████████▎        | 747 kB 7.1 MB/s eta 0:00:01\r\u001b[K     |███████████████████████▋        | 757 kB 7.1 MB/s eta 0:00:01\r\u001b[K     |████████████████████████        | 768 kB 7.1 MB/s eta 0:00:01\r\u001b[K     |████████████████████████▎       | 778 kB 7.1 MB/s eta 0:00:01\r\u001b[K     |████████████████████████▋       | 788 kB 7.1 MB/s eta 0:00:01\r\u001b[K     |█████████████████████████       | 798 kB 7.1 MB/s eta 0:00:01\r\u001b[K     |█████████████████████████▎      | 808 kB 7.1 MB/s eta 0:00:01\r\u001b[K     |█████████████████████████▋      | 819 kB 7.1 MB/s eta 0:00:01\r\u001b[K     |█████████████████████████▉      | 829 kB 7.1 MB/s eta 0:00:01\r\u001b[K     |██████████████████████████▏     | 839 kB 7.1 MB/s eta 0:00:01\r\u001b[K     |██████████████████████████▌     | 849 kB 7.1 MB/s eta 0:00:01\r\u001b[K     |██████████████████████████▉     | 860 kB 7.1 MB/s eta 0:00:01\r\u001b[K     |███████████████████████████▏    | 870 kB 7.1 MB/s eta 0:00:01\r\u001b[K     |███████████████████████████▌    | 880 kB 7.1 MB/s eta 0:00:01\r\u001b[K     |███████████████████████████▉    | 890 kB 7.1 MB/s eta 0:00:01\r\u001b[K     |████████████████████████████▏   | 901 kB 7.1 MB/s eta 0:00:01\r\u001b[K     |████████████████████████████▍   | 911 kB 7.1 MB/s eta 0:00:01\r\u001b[K     |████████████████████████████▊   | 921 kB 7.1 MB/s eta 0:00:01\r\u001b[K     |█████████████████████████████   | 931 kB 7.1 MB/s eta 0:00:01\r\u001b[K     |█████████████████████████████▍  | 942 kB 7.1 MB/s eta 0:00:01\r\u001b[K     |█████████████████████████████▊  | 952 kB 7.1 MB/s eta 0:00:01\r\u001b[K     |██████████████████████████████  | 962 kB 7.1 MB/s eta 0:00:01\r\u001b[K     |██████████████████████████████▍ | 972 kB 7.1 MB/s eta 0:00:01\r\u001b[K     |██████████████████████████████▊ | 983 kB 7.1 MB/s eta 0:00:01\r\u001b[K     |███████████████████████████████ | 993 kB 7.1 MB/s eta 0:00:01\r\u001b[K     |███████████████████████████████▎| 1.0 MB 7.1 MB/s eta 0:00:01\r\u001b[K     |███████████████████████████████▋| 1.0 MB 7.1 MB/s eta 0:00:01\r\u001b[K     |████████████████████████████████| 1.0 MB 7.1 MB/s eta 0:00:01\r\u001b[K     |████████████████████████████████| 1.0 MB 7.1 MB/s \n",
            "\u001b[?25hRequirement already satisfied: jinja2 in /usr/local/lib/python3.7/dist-packages (from mpld3) (2.11.3)\n",
            "Requirement already satisfied: matplotlib in /usr/local/lib/python3.7/dist-packages (from mpld3) (3.2.2)\n",
            "Requirement already satisfied: MarkupSafe>=0.23 in /usr/local/lib/python3.7/dist-packages (from jinja2->mpld3) (2.0.1)\n",
            "Requirement already satisfied: python-dateutil>=2.1 in /usr/local/lib/python3.7/dist-packages (from matplotlib->mpld3) (2.8.2)\n",
            "Requirement already satisfied: numpy>=1.11 in /usr/local/lib/python3.7/dist-packages (from matplotlib->mpld3) (1.19.5)\n",
            "Requirement already satisfied: pyparsing!=2.0.4,!=2.1.2,!=2.1.6,>=2.0.1 in /usr/local/lib/python3.7/dist-packages (from matplotlib->mpld3) (2.4.7)\n",
            "Requirement already satisfied: kiwisolver>=1.0.1 in /usr/local/lib/python3.7/dist-packages (from matplotlib->mpld3) (1.3.1)\n",
            "Requirement already satisfied: cycler>=0.10 in /usr/local/lib/python3.7/dist-packages (from matplotlib->mpld3) (0.10.0)\n",
            "Requirement already satisfied: six in /usr/local/lib/python3.7/dist-packages (from cycler>=0.10->matplotlib->mpld3) (1.15.0)\n",
            "Building wheels for collected packages: mpld3\n",
            "  Building wheel for mpld3 (setup.py) ... \u001b[?25l\u001b[?25hdone\n",
            "  Created wheel for mpld3: filename=mpld3-0.5.5-py3-none-any.whl size=200907 sha256=1260f8342c39c419b18fb804630793885d83175aaec44a715ae9cd9b65c753b1\n",
            "  Stored in directory: /root/.cache/pip/wheels/3b/f3/08/a11447ac4ea31d7603142e76b4cba9e48b2fa7d82b76b69731\n",
            "Successfully built mpld3\n",
            "Installing collected packages: mpld3\n",
            "Successfully installed mpld3-0.5.5\n"
          ]
        }
      ]
    },
    {
      "cell_type": "code",
      "metadata": {
        "id": "9AffNA5gbdid"
      },
      "source": [
        "import numpy as np # linear algebra\n",
        "import pandas as pd # data processing, CSV file I/O (e.g. pd.read_csv)\n",
        "\n",
        "# keeps the plots in one place. calls image as static pngs\n",
        "%matplotlib inline \n",
        "import matplotlib.pyplot as plt # side-stepping mpl backend\n",
        "import matplotlib.gridspec as gridspec # subplots\n",
        "import mpld3 as mpl\n",
        "\n",
        "#Import models from scikit learn module:\n",
        "from sklearn.model_selection import train_test_split\n",
        "from sklearn.model_selection import KFold\n",
        "from sklearn.linear_model import LogisticRegression\n",
        "from sklearn.model_selection import train_test_split #For K-fold cross validation\n",
        "from sklearn.ensemble import RandomForestClassifier\n",
        "from sklearn.tree import DecisionTreeClassifier, export_graphviz\n",
        "from sklearn import metrics"
      ],
      "execution_count": 5,
      "outputs": []
    },
    {
      "cell_type": "code",
      "metadata": {
        "id": "_nJCIAaVbxVH",
        "colab": {
          "base_uri": "https://localhost:8080/",
          "height": 413
        },
        "outputId": "704b8804-4647-4766-f520-02cb1a78868a"
      },
      "source": [
        "df = pd.read_csv(\"/content/gdrive/My Drive/data.csv\",header = 0)\n",
        "df.head()"
      ],
      "execution_count": 6,
      "outputs": [
        {
          "output_type": "error",
          "ename": "FileNotFoundError",
          "evalue": "ignored",
          "traceback": [
            "\u001b[0;31m---------------------------------------------------------------------------\u001b[0m",
            "\u001b[0;31mFileNotFoundError\u001b[0m                         Traceback (most recent call last)",
            "\u001b[0;32m<ipython-input-6-0d0f6d0ab4a9>\u001b[0m in \u001b[0;36m<module>\u001b[0;34m()\u001b[0m\n\u001b[0;32m----> 1\u001b[0;31m \u001b[0mdf\u001b[0m \u001b[0;34m=\u001b[0m \u001b[0mpd\u001b[0m\u001b[0;34m.\u001b[0m\u001b[0mread_csv\u001b[0m\u001b[0;34m(\u001b[0m\u001b[0;34m\"/content/gdrive/My Drive/data.csv\"\u001b[0m\u001b[0;34m,\u001b[0m\u001b[0mheader\u001b[0m \u001b[0;34m=\u001b[0m \u001b[0;36m0\u001b[0m\u001b[0;34m)\u001b[0m\u001b[0;34m\u001b[0m\u001b[0;34m\u001b[0m\u001b[0m\n\u001b[0m\u001b[1;32m      2\u001b[0m \u001b[0mdf\u001b[0m\u001b[0;34m.\u001b[0m\u001b[0mhead\u001b[0m\u001b[0;34m(\u001b[0m\u001b[0;34m)\u001b[0m\u001b[0;34m\u001b[0m\u001b[0;34m\u001b[0m\u001b[0m\n",
            "\u001b[0;32m/usr/local/lib/python3.7/dist-packages/pandas/io/parsers.py\u001b[0m in \u001b[0;36mread_csv\u001b[0;34m(filepath_or_buffer, sep, delimiter, header, names, index_col, usecols, squeeze, prefix, mangle_dupe_cols, dtype, engine, converters, true_values, false_values, skipinitialspace, skiprows, skipfooter, nrows, na_values, keep_default_na, na_filter, verbose, skip_blank_lines, parse_dates, infer_datetime_format, keep_date_col, date_parser, dayfirst, cache_dates, iterator, chunksize, compression, thousands, decimal, lineterminator, quotechar, quoting, doublequote, escapechar, comment, encoding, dialect, error_bad_lines, warn_bad_lines, delim_whitespace, low_memory, memory_map, float_precision)\u001b[0m\n\u001b[1;32m    686\u001b[0m     )\n\u001b[1;32m    687\u001b[0m \u001b[0;34m\u001b[0m\u001b[0m\n\u001b[0;32m--> 688\u001b[0;31m     \u001b[0;32mreturn\u001b[0m \u001b[0m_read\u001b[0m\u001b[0;34m(\u001b[0m\u001b[0mfilepath_or_buffer\u001b[0m\u001b[0;34m,\u001b[0m \u001b[0mkwds\u001b[0m\u001b[0;34m)\u001b[0m\u001b[0;34m\u001b[0m\u001b[0;34m\u001b[0m\u001b[0m\n\u001b[0m\u001b[1;32m    689\u001b[0m \u001b[0;34m\u001b[0m\u001b[0m\n\u001b[1;32m    690\u001b[0m \u001b[0;34m\u001b[0m\u001b[0m\n",
            "\u001b[0;32m/usr/local/lib/python3.7/dist-packages/pandas/io/parsers.py\u001b[0m in \u001b[0;36m_read\u001b[0;34m(filepath_or_buffer, kwds)\u001b[0m\n\u001b[1;32m    452\u001b[0m \u001b[0;34m\u001b[0m\u001b[0m\n\u001b[1;32m    453\u001b[0m     \u001b[0;31m# Create the parser.\u001b[0m\u001b[0;34m\u001b[0m\u001b[0;34m\u001b[0m\u001b[0;34m\u001b[0m\u001b[0m\n\u001b[0;32m--> 454\u001b[0;31m     \u001b[0mparser\u001b[0m \u001b[0;34m=\u001b[0m \u001b[0mTextFileReader\u001b[0m\u001b[0;34m(\u001b[0m\u001b[0mfp_or_buf\u001b[0m\u001b[0;34m,\u001b[0m \u001b[0;34m**\u001b[0m\u001b[0mkwds\u001b[0m\u001b[0;34m)\u001b[0m\u001b[0;34m\u001b[0m\u001b[0;34m\u001b[0m\u001b[0m\n\u001b[0m\u001b[1;32m    455\u001b[0m \u001b[0;34m\u001b[0m\u001b[0m\n\u001b[1;32m    456\u001b[0m     \u001b[0;32mif\u001b[0m \u001b[0mchunksize\u001b[0m \u001b[0;32mor\u001b[0m \u001b[0miterator\u001b[0m\u001b[0;34m:\u001b[0m\u001b[0;34m\u001b[0m\u001b[0;34m\u001b[0m\u001b[0m\n",
            "\u001b[0;32m/usr/local/lib/python3.7/dist-packages/pandas/io/parsers.py\u001b[0m in \u001b[0;36m__init__\u001b[0;34m(self, f, engine, **kwds)\u001b[0m\n\u001b[1;32m    946\u001b[0m             \u001b[0mself\u001b[0m\u001b[0;34m.\u001b[0m\u001b[0moptions\u001b[0m\u001b[0;34m[\u001b[0m\u001b[0;34m\"has_index_names\"\u001b[0m\u001b[0;34m]\u001b[0m \u001b[0;34m=\u001b[0m \u001b[0mkwds\u001b[0m\u001b[0;34m[\u001b[0m\u001b[0;34m\"has_index_names\"\u001b[0m\u001b[0;34m]\u001b[0m\u001b[0;34m\u001b[0m\u001b[0;34m\u001b[0m\u001b[0m\n\u001b[1;32m    947\u001b[0m \u001b[0;34m\u001b[0m\u001b[0m\n\u001b[0;32m--> 948\u001b[0;31m         \u001b[0mself\u001b[0m\u001b[0;34m.\u001b[0m\u001b[0m_make_engine\u001b[0m\u001b[0;34m(\u001b[0m\u001b[0mself\u001b[0m\u001b[0;34m.\u001b[0m\u001b[0mengine\u001b[0m\u001b[0;34m)\u001b[0m\u001b[0;34m\u001b[0m\u001b[0;34m\u001b[0m\u001b[0m\n\u001b[0m\u001b[1;32m    949\u001b[0m \u001b[0;34m\u001b[0m\u001b[0m\n\u001b[1;32m    950\u001b[0m     \u001b[0;32mdef\u001b[0m \u001b[0mclose\u001b[0m\u001b[0;34m(\u001b[0m\u001b[0mself\u001b[0m\u001b[0;34m)\u001b[0m\u001b[0;34m:\u001b[0m\u001b[0;34m\u001b[0m\u001b[0;34m\u001b[0m\u001b[0m\n",
            "\u001b[0;32m/usr/local/lib/python3.7/dist-packages/pandas/io/parsers.py\u001b[0m in \u001b[0;36m_make_engine\u001b[0;34m(self, engine)\u001b[0m\n\u001b[1;32m   1178\u001b[0m     \u001b[0;32mdef\u001b[0m \u001b[0m_make_engine\u001b[0m\u001b[0;34m(\u001b[0m\u001b[0mself\u001b[0m\u001b[0;34m,\u001b[0m \u001b[0mengine\u001b[0m\u001b[0;34m=\u001b[0m\u001b[0;34m\"c\"\u001b[0m\u001b[0;34m)\u001b[0m\u001b[0;34m:\u001b[0m\u001b[0;34m\u001b[0m\u001b[0;34m\u001b[0m\u001b[0m\n\u001b[1;32m   1179\u001b[0m         \u001b[0;32mif\u001b[0m \u001b[0mengine\u001b[0m \u001b[0;34m==\u001b[0m \u001b[0;34m\"c\"\u001b[0m\u001b[0;34m:\u001b[0m\u001b[0;34m\u001b[0m\u001b[0;34m\u001b[0m\u001b[0m\n\u001b[0;32m-> 1180\u001b[0;31m             \u001b[0mself\u001b[0m\u001b[0;34m.\u001b[0m\u001b[0m_engine\u001b[0m \u001b[0;34m=\u001b[0m \u001b[0mCParserWrapper\u001b[0m\u001b[0;34m(\u001b[0m\u001b[0mself\u001b[0m\u001b[0;34m.\u001b[0m\u001b[0mf\u001b[0m\u001b[0;34m,\u001b[0m \u001b[0;34m**\u001b[0m\u001b[0mself\u001b[0m\u001b[0;34m.\u001b[0m\u001b[0moptions\u001b[0m\u001b[0;34m)\u001b[0m\u001b[0;34m\u001b[0m\u001b[0;34m\u001b[0m\u001b[0m\n\u001b[0m\u001b[1;32m   1181\u001b[0m         \u001b[0;32melse\u001b[0m\u001b[0;34m:\u001b[0m\u001b[0;34m\u001b[0m\u001b[0;34m\u001b[0m\u001b[0m\n\u001b[1;32m   1182\u001b[0m             \u001b[0;32mif\u001b[0m \u001b[0mengine\u001b[0m \u001b[0;34m==\u001b[0m \u001b[0;34m\"python\"\u001b[0m\u001b[0;34m:\u001b[0m\u001b[0;34m\u001b[0m\u001b[0;34m\u001b[0m\u001b[0m\n",
            "\u001b[0;32m/usr/local/lib/python3.7/dist-packages/pandas/io/parsers.py\u001b[0m in \u001b[0;36m__init__\u001b[0;34m(self, src, **kwds)\u001b[0m\n\u001b[1;32m   2008\u001b[0m         \u001b[0mkwds\u001b[0m\u001b[0;34m[\u001b[0m\u001b[0;34m\"usecols\"\u001b[0m\u001b[0;34m]\u001b[0m \u001b[0;34m=\u001b[0m \u001b[0mself\u001b[0m\u001b[0;34m.\u001b[0m\u001b[0musecols\u001b[0m\u001b[0;34m\u001b[0m\u001b[0;34m\u001b[0m\u001b[0m\n\u001b[1;32m   2009\u001b[0m \u001b[0;34m\u001b[0m\u001b[0m\n\u001b[0;32m-> 2010\u001b[0;31m         \u001b[0mself\u001b[0m\u001b[0;34m.\u001b[0m\u001b[0m_reader\u001b[0m \u001b[0;34m=\u001b[0m \u001b[0mparsers\u001b[0m\u001b[0;34m.\u001b[0m\u001b[0mTextReader\u001b[0m\u001b[0;34m(\u001b[0m\u001b[0msrc\u001b[0m\u001b[0;34m,\u001b[0m \u001b[0;34m**\u001b[0m\u001b[0mkwds\u001b[0m\u001b[0;34m)\u001b[0m\u001b[0;34m\u001b[0m\u001b[0;34m\u001b[0m\u001b[0m\n\u001b[0m\u001b[1;32m   2011\u001b[0m         \u001b[0mself\u001b[0m\u001b[0;34m.\u001b[0m\u001b[0munnamed_cols\u001b[0m \u001b[0;34m=\u001b[0m \u001b[0mself\u001b[0m\u001b[0;34m.\u001b[0m\u001b[0m_reader\u001b[0m\u001b[0;34m.\u001b[0m\u001b[0munnamed_cols\u001b[0m\u001b[0;34m\u001b[0m\u001b[0;34m\u001b[0m\u001b[0m\n\u001b[1;32m   2012\u001b[0m \u001b[0;34m\u001b[0m\u001b[0m\n",
            "\u001b[0;32mpandas/_libs/parsers.pyx\u001b[0m in \u001b[0;36mpandas._libs.parsers.TextReader.__cinit__\u001b[0;34m()\u001b[0m\n",
            "\u001b[0;32mpandas/_libs/parsers.pyx\u001b[0m in \u001b[0;36mpandas._libs.parsers.TextReader._setup_parser_source\u001b[0;34m()\u001b[0m\n",
            "\u001b[0;31mFileNotFoundError\u001b[0m: [Errno 2] No such file or directory: '/content/gdrive/My Drive/data.csv'"
          ]
        }
      ]
    },
    {
      "cell_type": "code",
      "metadata": {
        "id": "yryK2X0AciZg"
      },
      "source": [
        "df.drop('id',axis=1,inplace=True)\n",
        "df.drop('Unnamed: 32',axis=1,inplace=True)\n",
        "# size of the dataframe\n",
        "len(df)"
      ],
      "execution_count": null,
      "outputs": []
    },
    {
      "cell_type": "code",
      "metadata": {
        "id": "OBiU-yitdFRr"
      },
      "source": [
        "df.diagnosis.unique()\n",
        "df['diagnosis'] = df['diagnosis'].map({'M':1,'B':0})\n",
        "df.head()"
      ],
      "execution_count": null,
      "outputs": []
    },
    {
      "cell_type": "code",
      "metadata": {
        "id": "1gLLsYlZdIIE"
      },
      "source": [
        "df.describe()"
      ],
      "execution_count": null,
      "outputs": []
    },
    {
      "cell_type": "code",
      "metadata": {
        "id": "F0TcPCzrdPsu"
      },
      "source": [
        "df.describe()\n",
        "plt.hist(df['diagnosis'])\n",
        "plt.title('Diagnosis (M=1 , B=0)')\n",
        "plt.show()"
      ],
      "execution_count": null,
      "outputs": []
    },
    {
      "cell_type": "code",
      "metadata": {
        "id": "6vnm0BEbdTyr"
      },
      "source": [
        "features_mean=list(df.columns[1:11])\n",
        "# split dataframe into two based on diagnosis\n",
        "dfM=df[df['diagnosis'] ==1]\n",
        "dfB=df[df['diagnosis'] ==0]"
      ],
      "execution_count": null,
      "outputs": []
    },
    {
      "cell_type": "code",
      "metadata": {
        "id": "rSS-d64rdXTm"
      },
      "source": [
        "plt.rcParams.update({'font.size': 8})\n",
        "fig, axes = plt.subplots(nrows=5, ncols=2, figsize=(8,10))\n",
        "axes = axes.ravel()\n",
        "for idx,ax in enumerate(axes):\n",
        "    ax.figure\n",
        "    binwidth= (max(df[features_mean[idx]]) - min(df[features_mean[idx]]))/50\n",
        "    ax.hist([dfM[features_mean[idx]],dfB[features_mean[idx]]], bins=np.arange(min(df[features_mean[idx]]), max(df[features_mean[idx]]) + binwidth, binwidth) , alpha=0.5,stacked=True,label=['M','B'],color=['r','g'])\n",
        "    ax.legend(loc='upper right')\n",
        "    ax.set_title(features_mean[idx])\n",
        "plt.tight_layout()\n",
        "plt.show()"
      ],
      "execution_count": null,
      "outputs": []
    },
    {
      "cell_type": "code",
      "metadata": {
        "id": "pYbwRnSudZ3e"
      },
      "source": [
        "#create a test set and training set\n",
        "x_train , x_test , y_train , y_test = train_test_split (x,y,test_size=0.3 , random_state=42)"
      ],
      "execution_count": null,
      "outputs": []
    },
    {
      "cell_type": "code",
      "metadata": {
        "id": "62mreccVfEVW"
      },
      "source": [
        "#classification model and it's evaluattion \n",
        "# From AnalyticsVidhya tutorial\n",
        "def classification_model(model, data, predictors, outcome):\n",
        "  #Fit the model:\n",
        " \n",
        "  model.fit(data[predictors],data[outcome])\n",
        "  \n",
        "  #Make predictions on training set:\n",
        "  predictions = model.predict(data[predictors])\n",
        "  \n",
        "  #Print accuracy\n",
        "  accuracy = metrics.accuracy_score(predictions,data[outcome])\n",
        "  print(\"Accuracy : %s\" % \"{0:.3%}\".format(accuracy))\n",
        "\n",
        "  #Perform k-fold cross-validation with 5 folds\n",
        "  \n",
        "  error = []\n",
        "  kf = KFold(n_splits=5)\n",
        "  for train, test in kf.split(data[predictors]):\n",
        "    # Filter training data\n",
        "    train_predictors = kf.split((data[predictors].iloc[train,:]))\n",
        "    \n",
        "    # The target we're using to train the algorithm.\n",
        "    train_target = kf.split(data[outcome].iloc[train])\n",
        "    \n",
        "    # Training the algorithm using the predictors and target.\n",
        "    model.fit(train_predictors, train_target)\n",
        "    \n",
        "    #Record error from each cross-validation run\n",
        "    error.append(model.score(kf.split(data[predictors].iloc[test,:]), kf.split(data[outcome].iloc[test])))\n",
        "    \n",
        "    print(\"Cross-Validation Score : %s\" % \"{0:.3%}\".format(np.mean(error)))\n",
        "    \n",
        "  #Fit the model again so that it can be refered outside the function:\n",
        "  model.fit(kf.split(data[predictors]),kf.split((data[outcome]))) "
      ],
      "execution_count": null,
      "outputs": []
    },
    {
      "cell_type": "code",
      "metadata": {
        "id": "0uK6TQVLfN07"
      },
      "source": [
        "predictor_var = ['radius_mean','perimeter_mean','area_mean','compactness_mean','concave points_mean']\n",
        "outcome_var='diagnosis'\n",
        "model=LogisticRegression()\n",
        "classification_model(model,traindf,predictor_var,outcome_var)"
      ],
      "execution_count": null,
      "outputs": []
    }
  ]
}